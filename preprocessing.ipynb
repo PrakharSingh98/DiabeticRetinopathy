{
 "cells": [
  {
   "cell_type": "markdown",
   "metadata": {},
   "source": [
    "# <center>Diabetic Retinopathy Detection </center>"
   ]
  },
  {
   "cell_type": "markdown",
   "metadata": {},
   "source": [
    "## Importing libraries"
   ]
  },
  {
   "cell_type": "code",
   "execution_count": 1,
   "metadata": {},
   "outputs": [],
   "source": [
    "import pickle\n",
    "import matplotlib.pyplot as plt\n",
    "import seaborn as sns\n",
    "import os\n",
    "import glob\n",
    "import numpy as np\n",
    "from PIL import Image\n",
    "import cv2\n",
    "import random,string"
   ]
  },
  {
   "cell_type": "code",
   "execution_count": 2,
   "metadata": {},
   "outputs": [],
   "source": [
    "DIR = \"Dataset\""
   ]
  },
  {
   "cell_type": "code",
   "execution_count": 3,
   "metadata": {},
   "outputs": [
    {
     "name": "stdout",
     "output_type": "stream",
     "text": [
      "{'Mild': 370, 'Moderate': 999, 'No_DR': 1805, 'Proliferate_DR': 295, 'Severe': 193}\n"
     ]
    }
   ],
   "source": [
    "info ={}\n",
    "paths = os.listdir(\"Dataset\")\n",
    "for path in paths:\n",
    "    l = DIR+\"/\"+path\n",
    "    info[path] = len(glob.glob(l+\"/*.png\"))\n",
    "print(info)"
   ]
  },
  {
   "cell_type": "code",
   "execution_count": 4,
   "metadata": {},
   "outputs": [],
   "source": [
    "mild = glob.glob(\"Dataset/Mild/*.png\")\n",
    "moderate = glob.glob(\"Dataset/Moderate/*.png\")\n",
    "no_dr = glob.glob(\"Dataset/No_DR/*.png\")\n",
    "proliferate = glob.glob(\"Dataset/Proliferate_DR/*.png\")\n",
    "severe = glob.glob(\"Dataset/Severe/*.png\")"
   ]
  },
  {
   "cell_type": "code",
   "execution_count": 5,
   "metadata": {},
   "outputs": [],
   "source": [
    "keys = list(info.keys())\n",
    "val = list(info.values())"
   ]
  },
  {
   "cell_type": "markdown",
   "metadata": {},
   "source": [
    "## Visualizing data"
   ]
  },
  {
   "cell_type": "code",
   "execution_count": 6,
   "metadata": {},
   "outputs": [
    {
     "data": {
      "image/png": "[encoded data removed]",
      "text/plain": [
       "<Figure size 432x288 with 1 Axes>"
      ]
     },
     "metadata": {
      "needs_background": "light"
     },
     "output_type": "display_data"
    }
   ],
   "source": [
    "no_dr = info[\"No_DR\"]\n",
    "dr = info[\"Mild\"]+info[\"Moderate\"]+info[\"Proliferate_DR\"]+info[\"Severe\"]\n",
    "plt.bar(\"No DR\",no_dr)\n",
    "plt.bar(\"DR\",dr)\n",
    "freq = [no_dr,dr]\n",
    "for index, value in enumerate(freq):\n",
    "    plt.text(index-0.03,value+8,str(value),color=\"black\")\n",
    "plt.show()"
   ]
  },
  {
   "cell_type": "code",
   "execution_count": 7,
   "metadata": {},
   "outputs": [
    {
     "data": {
      "image/png": "[encoded data removed]",
      "text/plain": [
       "<Figure size 432x288 with 1 Axes>"
      ]
     },
     "metadata": {
      "needs_background": "light"
     },
     "output_type": "display_data"
    }
   ],
   "source": [
    "sns.barplot(keys,val,palette=\"spring\")\n",
    "for index, value in enumerate(val):\n",
    "    plt.text(index-0.1,value+15,str(value),color=\"black\")\n",
    "plt.show()"
   ]
  },
  {
   "cell_type": "markdown",
   "metadata": {},
   "source": [
    "## Data Preprocessing"
   ]
  },
  {
   "cell_type": "code",
   "execution_count": 44,
   "metadata": {},
   "outputs": [],
   "source": [
    "def change_channel(img):\n",
    "    img = cv2.cvtColor(img, cv2.COLOR_BGR2RGB)\n",
    "    return img"
   ]
  },
  {
   "cell_type": "code",
   "execution_count": 45,
   "metadata": {},
   "outputs": [],
   "source": [
    "from keras.preprocessing.image import ImageDataGenerator\n",
    "data_generator = ImageDataGenerator(rotation_range=180,\n",
    "                                    width_shift_range=0.1,\n",
    "                                    height_shift_range=0.1,\n",
    "                                    vertical_flip=True, \n",
    "                                    horizontal_flip=True,\n",
    "                                    zoom_range=0.2,\n",
    "                                    shear_range=0.1,\n",
    "                                    preprocessing_function=change_channel,\n",
    "                                    fill_mode='nearest')"
   ]
  },
  {
   "cell_type": "code",
   "execution_count": 46,
   "metadata": {},
   "outputs": [],
   "source": [
    "def generate(img,class_type,stop):\n",
    "    i=0\n",
    "    path = \"Dataset/\"+class_type\n",
    "    for batch in data_generator.flow(img,batch_size=1, save_to_dir=path,save_prefix='temp',save_format='png'):\n",
    "        i+=1\n",
    "        if(i>=stop):\n",
    "            break"
   ]
  },
  {
   "cell_type": "code",
   "execution_count": 53,
   "metadata": {},
   "outputs": [],
   "source": [
    "# Preprocessing mild images\n",
    "for path in mild:\n",
    "    img = cv2.imread(path)\n",
    "    img = img.reshape((1,)+img.shape)\n",
    "    generate(img,'Mild',1)"
   ]
  },
  {
   "cell_type": "code",
   "execution_count": 54,
   "metadata": {},
   "outputs": [],
   "source": [
    "# Preprocessing Proliferate images\n",
    "for path in proliferate:\n",
    "    img = cv2.imread(path)\n",
    "    img = img.reshape((1,)+img.shape)\n",
    "    generate(img,'Proliferate_DR',2)   "
   ]
  },
  {
   "cell_type": "code",
   "execution_count": 55,
   "metadata": {},
   "outputs": [],
   "source": [
    "# Preprocessing Severe images\n",
    "for path in severe:\n",
    "    img = cv2.imread(path)\n",
    "    img = img.reshape((1,)+img.shape)\n",
    "    generate(img,'Severe',3) "
   ]
  },
  {
   "cell_type": "markdown",
   "metadata": {},
   "source": [
    "## After Preprocessing"
   ]
  },
  {
   "cell_type": "code",
   "execution_count": 56,
   "metadata": {},
   "outputs": [
    {
     "name": "stdout",
     "output_type": "stream",
     "text": [
      "{'Mild': 736, 'Moderate': 999, 'No_DR': 1805, 'Proliferate_DR': 870, 'Severe': 746}\n"
     ]
    }
   ],
   "source": [
    "info ={}\n",
    "paths = os.listdir(\"Dataset\")\n",
    "for path in paths:\n",
    "    l = DIR+\"/\"+path\n",
    "    info[path] = len(glob.glob(l+\"/*.png\"))\n",
    "print(info)"
   ]
  },
  {
   "cell_type": "code",
   "execution_count": 57,
   "metadata": {},
   "outputs": [],
   "source": [
    "keys = list(info.keys())\n",
    "val = list(info.values())"
   ]
  },
  {
   "cell_type": "code",
   "execution_count": 58,
   "metadata": {},
   "outputs": [
    {
     "data": {
      "image/png": "[encoded data removed]",
      "text/plain": [
       "<Figure size 432x288 with 1 Axes>"
      ]
     },
     "metadata": {
      "needs_background": "light"
     },
     "output_type": "display_data"
    }
   ],
   "source": [
    "sns.barplot(keys,val,palette=\"spring\")\n",
    "for index, value in enumerate(val):\n",
    "    plt.text(index-0.1,value+15,str(value),color=\"black\")\n",
    "plt.show()"
   ]
  },
  {
   "cell_type": "markdown",
   "metadata": {},
   "source": [
    "<hr>"
   ]
  }
 ],
 "metadata": {
  "kernelspec": {
   "display_name": "Python 3",
   "language": "python",
   "name": "python3"
  },
  "language_info": {
   "codemirror_mode": {
    "name": "ipython",
    "version": 3
   },
   "file_extension": ".py",
   "mimetype": "text/x-python",
   "name": "python",
   "nbconvert_exporter": "python",
   "pygments_lexer": "ipython3",
   "version": "3.7.6"
  }
 },
 "nbformat": 4,
 "nbformat_minor": 4
}
